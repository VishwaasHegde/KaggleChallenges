{
 "cells": [
  {
   "cell_type": "code",
   "execution_count": 109,
   "metadata": {},
   "outputs": [],
   "source": [
    "import pandas as pd\n",
    "import numpy as np\n",
    "import matplotlib.pyplot as plt\n",
    "import seaborn as sns\n",
    "from scipy import stats\n",
    "from sklearn.model_selection import train_test_split\n",
    "from sklearn.manifold import TSNE\n",
    "from sklearn.preprocessing import StandardScaler\n",
    "from sklearn.decomposition import PCA\n",
    "from sklearn.cluster import KMeans\n",
    "from scipy.stats import skew\n",
    "from scipy.special import boxcox1p\n",
    "from scipy.stats import boxcox_normmax\n",
    "from sklearn.model_selection import KFold\n",
    "from sklearn.model_selection import cross_val_score\n",
    "from sklearn.metrics import mean_squared_error\n",
    "from sklearn.pipeline import make_pipeline\n",
    "from sklearn.preprocessing import RobustScaler\n",
    "from sklearn.svm import SVR\n",
    "from sklearn.linear_model import RidgeCV,LassoCV, ElasticNetCV\n",
    "from sklearn.ensemble import GradientBoostingRegressor\n",
    "from lightgbm import LGBMRegressor\n",
    "from xgboost import XGBRegressor\n",
    "# from sklearn.linear_model \n",
    "from datetime import datetime\n",
    "from mlxtend.regressor import StackingCVRegressor"
   ]
  },
  {
   "cell_type": "code",
   "execution_count": 40,
   "metadata": {},
   "outputs": [],
   "source": [
    "sales_train = pd.read_csv('sales_train.csv')\n",
    "shops = pd.read_csv('shops.csv')\n",
    "items = pd.read_csv('items.csv')\n",
    "item_categories = pd.read_csv('item_categories.csv')"
   ]
  },
  {
   "cell_type": "code",
   "execution_count": 42,
   "metadata": {},
   "outputs": [],
   "source": [
    "y = sales_train.item_cnt_day\n",
    "del sales_train"
   ]
  },
  {
   "cell_type": "code",
   "execution_count": 5,
   "metadata": {},
   "outputs": [
    {
     "data": {
      "text/html": [
       "<div>\n",
       "<style scoped>\n",
       "    .dataframe tbody tr th:only-of-type {\n",
       "        vertical-align: middle;\n",
       "    }\n",
       "\n",
       "    .dataframe tbody tr th {\n",
       "        vertical-align: top;\n",
       "    }\n",
       "\n",
       "    .dataframe thead th {\n",
       "        text-align: right;\n",
       "    }\n",
       "</style>\n",
       "<table border=\"1\" class=\"dataframe\">\n",
       "  <thead>\n",
       "    <tr style=\"text-align: right;\">\n",
       "      <th></th>\n",
       "      <th>date</th>\n",
       "      <th>date_block_num</th>\n",
       "      <th>shop_id</th>\n",
       "      <th>item_id</th>\n",
       "      <th>item_price</th>\n",
       "      <th>item_cnt_day</th>\n",
       "    </tr>\n",
       "  </thead>\n",
       "  <tbody>\n",
       "    <tr>\n",
       "      <th>0</th>\n",
       "      <td>02.01.2013</td>\n",
       "      <td>0</td>\n",
       "      <td>59</td>\n",
       "      <td>22154</td>\n",
       "      <td>999.00</td>\n",
       "      <td>1.0</td>\n",
       "    </tr>\n",
       "    <tr>\n",
       "      <th>1</th>\n",
       "      <td>03.01.2013</td>\n",
       "      <td>0</td>\n",
       "      <td>25</td>\n",
       "      <td>2552</td>\n",
       "      <td>899.00</td>\n",
       "      <td>1.0</td>\n",
       "    </tr>\n",
       "    <tr>\n",
       "      <th>2</th>\n",
       "      <td>05.01.2013</td>\n",
       "      <td>0</td>\n",
       "      <td>25</td>\n",
       "      <td>2552</td>\n",
       "      <td>899.00</td>\n",
       "      <td>-1.0</td>\n",
       "    </tr>\n",
       "    <tr>\n",
       "      <th>3</th>\n",
       "      <td>06.01.2013</td>\n",
       "      <td>0</td>\n",
       "      <td>25</td>\n",
       "      <td>2554</td>\n",
       "      <td>1709.05</td>\n",
       "      <td>1.0</td>\n",
       "    </tr>\n",
       "    <tr>\n",
       "      <th>4</th>\n",
       "      <td>15.01.2013</td>\n",
       "      <td>0</td>\n",
       "      <td>25</td>\n",
       "      <td>2555</td>\n",
       "      <td>1099.00</td>\n",
       "      <td>1.0</td>\n",
       "    </tr>\n",
       "  </tbody>\n",
       "</table>\n",
       "</div>"
      ],
      "text/plain": [
       "         date  date_block_num  shop_id  item_id  item_price  item_cnt_day\n",
       "0  02.01.2013               0       59    22154      999.00           1.0\n",
       "1  03.01.2013               0       25     2552      899.00           1.0\n",
       "2  05.01.2013               0       25     2552      899.00          -1.0\n",
       "3  06.01.2013               0       25     2554     1709.05           1.0\n",
       "4  15.01.2013               0       25     2555     1099.00           1.0"
      ]
     },
     "execution_count": 5,
     "metadata": {},
     "output_type": "execute_result"
    }
   ],
   "source": [
    "sales_train.head()"
   ]
  },
  {
   "cell_type": "code",
   "execution_count": 6,
   "metadata": {},
   "outputs": [],
   "source": [
    "#Merge shops and sales_train\n",
    "t1= sales_train.merge(shops, on='shop_id',how='left')"
   ]
  },
  {
   "cell_type": "code",
   "execution_count": 7,
   "metadata": {},
   "outputs": [],
   "source": [
    "#Merge it again with items\n",
    "t1 = t1.merge(items, on='item_id',how='left')"
   ]
  },
  {
   "cell_type": "code",
   "execution_count": 8,
   "metadata": {},
   "outputs": [],
   "source": [
    "#Merge it again with item categories\n",
    "t1=t1.merge(item_categories, on='item_category_id',how='left')"
   ]
  },
  {
   "cell_type": "code",
   "execution_count": 9,
   "metadata": {},
   "outputs": [
    {
     "data": {
      "text/plain": [
       "array(['!Якутск Орджоникидзе, 56 фран', '!Якутск ТЦ \"Центральный\" фран',\n",
       "       'Адыгея ТЦ \"Мега\"', 'Балашиха ТРК \"Октябрь-Киномир\"',\n",
       "       'Волжский ТЦ \"Волга Молл\"', 'Вологда ТРЦ \"Мармелад\"',\n",
       "       'Воронеж (Плехановская, 13)', 'Воронеж ТРЦ \"Максимир\"',\n",
       "       'Воронеж ТРЦ Сити-Парк \"Град\"', 'Выездная Торговля',\n",
       "       'Жуковский ул. Чкалова 39м?', 'Жуковский ул. Чкалова 39м²',\n",
       "       'Интернет-магазин ЧС', 'Казань ТЦ \"Бехетле\"',\n",
       "       'Казань ТЦ \"ПаркХаус\" II', 'Калуга ТРЦ \"XXI век\"',\n",
       "       'Коломна ТЦ \"Рио\"', 'Красноярск ТЦ \"Взлетка Плаза\"',\n",
       "       'Красноярск ТЦ \"Июнь\"', 'Курск ТЦ \"Пушкинский\"',\n",
       "       'Москва \"Распродажа\"', 'Москва МТРЦ \"Афи Молл\"',\n",
       "       'Москва Магазин С21', 'Москва ТК \"Буденовский\" (пав.А2)',\n",
       "       'Москва ТК \"Буденовский\" (пав.К7)', 'Москва ТРК \"Атриум\"',\n",
       "       'Москва ТЦ \"Ареал\" (Беляево)', 'Москва ТЦ \"МЕГА Белая Дача II\"',\n",
       "       'Москва ТЦ \"МЕГА Теплый Стан\" II',\n",
       "       'Москва ТЦ \"Новый век\" (Новокосино)', 'Москва ТЦ \"Перловский\"',\n",
       "       'Москва ТЦ \"Семеновский\"', 'Москва ТЦ \"Серебряный Дом\"',\n",
       "       'Мытищи ТРК \"XL-3\"', 'Н.Новгород ТРЦ \"РИО\"',\n",
       "       'Н.Новгород ТРЦ \"Фантастика\"',\n",
       "       'Новосибирск ТРЦ \"Галерея Новосибирск\"', 'Новосибирск ТЦ \"Мега\"',\n",
       "       'Омск ТЦ \"Мега\"', 'РостовНаДону ТРК \"Мегацентр Горизонт\"',\n",
       "       'РостовНаДону ТРК \"Мегацентр Горизонт\" Островной',\n",
       "       'РостовНаДону ТЦ \"Мега\"', 'СПб ТК \"Невский Центр\"',\n",
       "       'СПб ТК \"Сенная\"', 'Самара ТЦ \"Мелодия\"', 'Самара ТЦ \"ПаркХаус\"',\n",
       "       'Сергиев Посад ТЦ \"7Я\"', 'Сургут ТРЦ \"Сити Молл\"',\n",
       "       'Томск ТРЦ \"Изумрудный Город\"', 'Тюмень ТРЦ \"Кристалл\"',\n",
       "       'Тюмень ТЦ \"Гудвин\"', 'Тюмень ТЦ \"Зеленый Берег\"',\n",
       "       'Уфа ТК \"Центральный\"', 'Уфа ТЦ \"Семья\" 2', 'Химки ТЦ \"Мега\"',\n",
       "       'Цифровой склад 1С-Онлайн', 'Чехов ТРЦ \"Карнавал\"',\n",
       "       'Якутск Орджоникидзе, 56', 'Якутск ТЦ \"Центральный\"',\n",
       "       'Ярославль ТЦ \"Альтаир\"'], dtype=object)"
      ]
     },
     "execution_count": 9,
     "metadata": {},
     "output_type": "execute_result"
    }
   ],
   "source": [
    "np.unique(t1.shop_name)"
   ]
  },
  {
   "cell_type": "code",
   "execution_count": 10,
   "metadata": {},
   "outputs": [],
   "source": [
    "t1.to_csv('train_full.csv')"
   ]
  },
  {
   "cell_type": "code",
   "execution_count": 11,
   "metadata": {},
   "outputs": [],
   "source": [
    "#Perform same merge operations with test\n",
    "test=pd.read_csv('test.csv', index_col='ID')\n",
    "t2 = test.merge(shops, on='shop_id',how='left')\n",
    "t2 = t2.merge(items, on='item_id',how='left')\n",
    "t2=t2.merge(item_categories, on='item_category_id',how='left')"
   ]
  },
  {
   "cell_type": "code",
   "execution_count": 12,
   "metadata": {},
   "outputs": [],
   "source": [
    "t2.to_csv('test_full.csv')"
   ]
  },
  {
   "cell_type": "code",
   "execution_count": 13,
   "metadata": {},
   "outputs": [
    {
     "data": {
      "text/html": [
       "<div>\n",
       "<style scoped>\n",
       "    .dataframe tbody tr th:only-of-type {\n",
       "        vertical-align: middle;\n",
       "    }\n",
       "\n",
       "    .dataframe tbody tr th {\n",
       "        vertical-align: top;\n",
       "    }\n",
       "\n",
       "    .dataframe thead th {\n",
       "        text-align: right;\n",
       "    }\n",
       "</style>\n",
       "<table border=\"1\" class=\"dataframe\">\n",
       "  <thead>\n",
       "    <tr style=\"text-align: right;\">\n",
       "      <th></th>\n",
       "      <th>shop_id</th>\n",
       "      <th>item_id</th>\n",
       "      <th>shop_name</th>\n",
       "      <th>Unnamed: 2</th>\n",
       "      <th>item_name</th>\n",
       "      <th>item_category_id</th>\n",
       "      <th>item_category_name</th>\n",
       "    </tr>\n",
       "  </thead>\n",
       "  <tbody>\n",
       "    <tr>\n",
       "      <th>0</th>\n",
       "      <td>5</td>\n",
       "      <td>5037</td>\n",
       "      <td>Вологда ТРЦ \"Мармелад\"</td>\n",
       "      <td>4</td>\n",
       "      <td>NHL 15 [PS3, русские субтитры]</td>\n",
       "      <td>19</td>\n",
       "      <td>Игры - PS3</td>\n",
       "    </tr>\n",
       "    <tr>\n",
       "      <th>1</th>\n",
       "      <td>5</td>\n",
       "      <td>5320</td>\n",
       "      <td>Вологда ТРЦ \"Мармелад\"</td>\n",
       "      <td>4</td>\n",
       "      <td>ONE DIRECTION  Made In The A.M.</td>\n",
       "      <td>55</td>\n",
       "      <td>Музыка - CD локального производства</td>\n",
       "    </tr>\n",
       "    <tr>\n",
       "      <th>2</th>\n",
       "      <td>5</td>\n",
       "      <td>5233</td>\n",
       "      <td>Вологда ТРЦ \"Мармелад\"</td>\n",
       "      <td>4</td>\n",
       "      <td>Need for Speed Rivals (Essentials) [PS3, русск...</td>\n",
       "      <td>19</td>\n",
       "      <td>Игры - PS3</td>\n",
       "    </tr>\n",
       "    <tr>\n",
       "      <th>3</th>\n",
       "      <td>5</td>\n",
       "      <td>5232</td>\n",
       "      <td>Вологда ТРЦ \"Мармелад\"</td>\n",
       "      <td>4</td>\n",
       "      <td>Need for Speed Rivals (Classics) [Xbox 360, ру...</td>\n",
       "      <td>23</td>\n",
       "      <td>Игры - XBOX 360</td>\n",
       "    </tr>\n",
       "    <tr>\n",
       "      <th>4</th>\n",
       "      <td>5</td>\n",
       "      <td>5268</td>\n",
       "      <td>Вологда ТРЦ \"Мармелад\"</td>\n",
       "      <td>4</td>\n",
       "      <td>Need for Speed [PS4, русская версия]</td>\n",
       "      <td>20</td>\n",
       "      <td>Игры - PS4</td>\n",
       "    </tr>\n",
       "  </tbody>\n",
       "</table>\n",
       "</div>"
      ],
      "text/plain": [
       "   shop_id  item_id               shop_name  Unnamed: 2  \\\n",
       "0        5     5037  Вологда ТРЦ \"Мармелад\"           4   \n",
       "1        5     5320  Вологда ТРЦ \"Мармелад\"           4   \n",
       "2        5     5233  Вологда ТРЦ \"Мармелад\"           4   \n",
       "3        5     5232  Вологда ТРЦ \"Мармелад\"           4   \n",
       "4        5     5268  Вологда ТРЦ \"Мармелад\"           4   \n",
       "\n",
       "                                           item_name  item_category_id  \\\n",
       "0                     NHL 15 [PS3, русские субтитры]                19   \n",
       "1                    ONE DIRECTION  Made In The A.M.                55   \n",
       "2  Need for Speed Rivals (Essentials) [PS3, русск...                19   \n",
       "3  Need for Speed Rivals (Classics) [Xbox 360, ру...                23   \n",
       "4               Need for Speed [PS4, русская версия]                20   \n",
       "\n",
       "                    item_category_name  \n",
       "0                           Игры - PS3  \n",
       "1  Музыка - CD локального производства  \n",
       "2                           Игры - PS3  \n",
       "3                      Игры - XBOX 360  \n",
       "4                           Игры - PS4  "
      ]
     },
     "execution_count": 13,
     "metadata": {},
     "output_type": "execute_result"
    }
   ],
   "source": [
    "t2.head()"
   ]
  },
  {
   "cell_type": "code",
   "execution_count": 14,
   "metadata": {},
   "outputs": [],
   "source": [
    "#Fill test date_block_num with next month indices\n",
    "t2['date_block_num']= [t1['date_block_num'].iloc[-1]+1]*t2.shape[0]"
   ]
  },
  {
   "cell_type": "code",
   "execution_count": 15,
   "metadata": {},
   "outputs": [
    {
     "data": {
      "text/plain": [
       "[{False},\n",
       " {False},\n",
       " {False},\n",
       " {False},\n",
       " {False},\n",
       " {False},\n",
       " {False},\n",
       " {False},\n",
       " {False},\n",
       " {False},\n",
       " {False}]"
      ]
     },
     "execution_count": 15,
     "metadata": {},
     "output_type": "execute_result"
    }
   ],
   "source": [
    "#Check for NA\n",
    "t1na = pd.isna(t1)\n",
    "[set(t1na.iloc[:,i]) for i in range(t1na.shape[1])]"
   ]
  },
  {
   "cell_type": "code",
   "execution_count": 16,
   "metadata": {},
   "outputs": [],
   "source": [
    "item_cnt_day_vc = t1['item_cnt_day'].value_counts()\n"
   ]
  },
  {
   "cell_type": "code",
   "execution_count": 17,
   "metadata": {},
   "outputs": [],
   "source": [
    "items_cnt_sorted = sorted(item_cnt_day_vc.items())"
   ]
  },
  {
   "cell_type": "code",
   "execution_count": 20,
   "metadata": {},
   "outputs": [
    {
     "name": "stdout",
     "output_type": "stream",
     "text": [
      "is missing? False\n"
     ]
    }
   ],
   "source": [
    "#Check if new shop_ids are present in test that are not in train\n",
    "t1_shop_id = set(t1['shop_id'])\n",
    "t2_shop_id = set(t2['shop_id'])\n",
    "missing_id=[]\n",
    "for t in t2_shop_id:\n",
    "    if t not in t1_shop_id:\n",
    "        missing_id.append(t)\n",
    "print('is missing?',len(missing_id)!=0)"
   ]
  },
  {
   "cell_type": "code",
   "execution_count": 21,
   "metadata": {},
   "outputs": [
    {
     "name": "stdout",
     "output_type": "stream",
     "text": [
      "is missing? True\n"
     ]
    }
   ],
   "source": [
    "#Check if new item_ids are present in test that are not in train\n",
    "t1_item_id = set(t1['item_id'])\n",
    "t2_item_id = set(t2['item_id'])\n",
    "missing_id=[]\n",
    "for t in t2_item_id:\n",
    "    if t not in t1_item_id:\n",
    "        missing_id.append(t)\n",
    "print('is missing?',len(missing_id)!=0)"
   ]
  },
  {
   "cell_type": "code",
   "execution_count": 22,
   "metadata": {},
   "outputs": [],
   "source": [
    "#To fill the missing item_id in test, group item_category and aggregate with the mode of item_id\n",
    "def mymode(arr):\n",
    "    return stats.mode(arr)[0][0]\n",
    "\n",
    "item_category_id_mode = t1.groupby('item_category_id')['item_id'].agg(mymode)\n",
    "item_category_id_mode = pd.DataFrame(item_category_id_mode)\n",
    "item_cat=  items[['item_id','item_category_id']].set_index('item_id')\n",
    "item_cat_missing = item_cat.loc[missing_id,:]\n",
    "item_cat_missing = item_cat_missing.reset_index()\n",
    "item_category_id_mode=item_category_id_mode.reset_index()\n",
    "item_item = item_cat_missing.merge(item_category_id_mode,on='item_category_id',how='left').drop('item_category_id',1)\n",
    "item_item=item_item.set_index('item_id_x')\n",
    "item_item = item_item.to_dict()['item_id_y']\n",
    "\n",
    "test_item_id=[]\n",
    "for a in t2.item_id:\n",
    "    if a in item_item:\n",
    "        test_item_id.append(item_item[a])\n",
    "    else:\n",
    "        test_item_id.append(a)\n",
    "        \n",
    "t2['item_id']=test_item_id        "
   ]
  },
  {
   "cell_type": "code",
   "execution_count": 23,
   "metadata": {},
   "outputs": [],
   "source": [
    "t2.to_csv('test_full.csv')"
   ]
  },
  {
   "cell_type": "code",
   "execution_count": 24,
   "metadata": {},
   "outputs": [],
   "source": [
    "from sklearn.preprocessing import LabelEncoder\n",
    "le=LabelEncoder()\n",
    "item_id_le = le.fit_transform(t1['item_id'])"
   ]
  },
  {
   "cell_type": "code",
   "execution_count": 25,
   "metadata": {},
   "outputs": [],
   "source": [
    "shop_id_le = le.fit_transform(t1['shop_id'])"
   ]
  },
  {
   "cell_type": "code",
   "execution_count": 26,
   "metadata": {},
   "outputs": [
    {
     "data": {
      "text/plain": [
       "array([[1.        , 0.01119663],\n",
       "       [0.01119663, 1.        ]])"
      ]
     },
     "execution_count": 26,
     "metadata": {},
     "output_type": "execute_result"
    }
   ],
   "source": [
    "np.corrcoef(sales_train['item_price'],sales_train['item_cnt_day'])"
   ]
  },
  {
   "cell_type": "code",
   "execution_count": 27,
   "metadata": {},
   "outputs": [],
   "source": [
    "shop_item_price_avg= t1.groupby(['shop_id','item_id'])[['item_price']].agg(np.mean)\n",
    "item_price_avg= t1.groupby(['item_id'])[['item_price']].agg(np.mean)"
   ]
  },
  {
   "cell_type": "code",
   "execution_count": null,
   "metadata": {},
   "outputs": [],
   "source": []
  },
  {
   "cell_type": "code",
   "execution_count": 28,
   "metadata": {},
   "outputs": [],
   "source": [
    "#impute item_price in test, by checking if (shop_id, item_id) is present in train, else impute from item_id from train\n",
    "t2_item_price=[]\n",
    "for i in range(t2.shape[0]):\n",
    "    shop_num = t2.iloc[i,0]\n",
    "    item_num = t2.iloc[i,1]\n",
    "    t = (shop_num,item_num)\n",
    "    if t in shop_item_price_avg.index:\n",
    "        ip = shop_item_price_avg.loc[t,'item_price']\n",
    "        t2_item_price.append(ip)\n",
    "    else:\n",
    "        ip = item_price_avg.loc[item_num,'item_price']\n",
    "        t2_item_price.append(ip)"
   ]
  },
  {
   "cell_type": "code",
   "execution_count": 29,
   "metadata": {},
   "outputs": [],
   "source": [
    "t2['item_price'] =t2_item_price"
   ]
  },
  {
   "cell_type": "code",
   "execution_count": 30,
   "metadata": {},
   "outputs": [
    {
     "data": {
      "text/html": [
       "<div>\n",
       "<style scoped>\n",
       "    .dataframe tbody tr th:only-of-type {\n",
       "        vertical-align: middle;\n",
       "    }\n",
       "\n",
       "    .dataframe tbody tr th {\n",
       "        vertical-align: top;\n",
       "    }\n",
       "\n",
       "    .dataframe thead th {\n",
       "        text-align: right;\n",
       "    }\n",
       "</style>\n",
       "<table border=\"1\" class=\"dataframe\">\n",
       "  <thead>\n",
       "    <tr style=\"text-align: right;\">\n",
       "      <th></th>\n",
       "      <th>shop_id</th>\n",
       "      <th>item_id</th>\n",
       "      <th>shop_name</th>\n",
       "      <th>Unnamed: 2</th>\n",
       "      <th>item_name</th>\n",
       "      <th>item_category_id</th>\n",
       "      <th>item_category_name</th>\n",
       "      <th>date_block_num</th>\n",
       "      <th>item_price</th>\n",
       "    </tr>\n",
       "  </thead>\n",
       "  <tbody>\n",
       "    <tr>\n",
       "      <th>0</th>\n",
       "      <td>5</td>\n",
       "      <td>5037</td>\n",
       "      <td>Вологда ТРЦ \"Мармелад\"</td>\n",
       "      <td>4</td>\n",
       "      <td>NHL 15 [PS3, русские субтитры]</td>\n",
       "      <td>19</td>\n",
       "      <td>Игры - PS3</td>\n",
       "      <td>34</td>\n",
       "      <td>1633.692308</td>\n",
       "    </tr>\n",
       "    <tr>\n",
       "      <th>1</th>\n",
       "      <td>5</td>\n",
       "      <td>13881</td>\n",
       "      <td>Вологда ТРЦ \"Мармелад\"</td>\n",
       "      <td>4</td>\n",
       "      <td>ONE DIRECTION  Made In The A.M.</td>\n",
       "      <td>55</td>\n",
       "      <td>Музыка - CD локального производства</td>\n",
       "      <td>34</td>\n",
       "      <td>583.562857</td>\n",
       "    </tr>\n",
       "    <tr>\n",
       "      <th>2</th>\n",
       "      <td>5</td>\n",
       "      <td>5233</td>\n",
       "      <td>Вологда ТРЦ \"Мармелад\"</td>\n",
       "      <td>4</td>\n",
       "      <td>Need for Speed Rivals (Essentials) [PS3, русск...</td>\n",
       "      <td>19</td>\n",
       "      <td>Игры - PS3</td>\n",
       "      <td>34</td>\n",
       "      <td>865.666667</td>\n",
       "    </tr>\n",
       "    <tr>\n",
       "      <th>3</th>\n",
       "      <td>5</td>\n",
       "      <td>5232</td>\n",
       "      <td>Вологда ТРЦ \"Мармелад\"</td>\n",
       "      <td>4</td>\n",
       "      <td>Need for Speed Rivals (Classics) [Xbox 360, ру...</td>\n",
       "      <td>23</td>\n",
       "      <td>Игры - XBOX 360</td>\n",
       "      <td>34</td>\n",
       "      <td>599.000000</td>\n",
       "    </tr>\n",
       "    <tr>\n",
       "      <th>4</th>\n",
       "      <td>5</td>\n",
       "      <td>3928</td>\n",
       "      <td>Вологда ТРЦ \"Мармелад\"</td>\n",
       "      <td>4</td>\n",
       "      <td>Need for Speed [PS4, русская версия]</td>\n",
       "      <td>20</td>\n",
       "      <td>Игры - PS4</td>\n",
       "      <td>34</td>\n",
       "      <td>2502.773585</td>\n",
       "    </tr>\n",
       "  </tbody>\n",
       "</table>\n",
       "</div>"
      ],
      "text/plain": [
       "   shop_id  item_id               shop_name  Unnamed: 2  \\\n",
       "0        5     5037  Вологда ТРЦ \"Мармелад\"           4   \n",
       "1        5    13881  Вологда ТРЦ \"Мармелад\"           4   \n",
       "2        5     5233  Вологда ТРЦ \"Мармелад\"           4   \n",
       "3        5     5232  Вологда ТРЦ \"Мармелад\"           4   \n",
       "4        5     3928  Вологда ТРЦ \"Мармелад\"           4   \n",
       "\n",
       "                                           item_name  item_category_id  \\\n",
       "0                     NHL 15 [PS3, русские субтитры]                19   \n",
       "1                    ONE DIRECTION  Made In The A.M.                55   \n",
       "2  Need for Speed Rivals (Essentials) [PS3, русск...                19   \n",
       "3  Need for Speed Rivals (Classics) [Xbox 360, ру...                23   \n",
       "4               Need for Speed [PS4, русская версия]                20   \n",
       "\n",
       "                    item_category_name  date_block_num   item_price  \n",
       "0                           Игры - PS3              34  1633.692308  \n",
       "1  Музыка - CD локального производства              34   583.562857  \n",
       "2                           Игры - PS3              34   865.666667  \n",
       "3                      Игры - XBOX 360              34   599.000000  \n",
       "4                           Игры - PS4              34  2502.773585  "
      ]
     },
     "execution_count": 30,
     "metadata": {},
     "output_type": "execute_result"
    }
   ],
   "source": [
    "t2.head()"
   ]
  },
  {
   "cell_type": "code",
   "execution_count": 32,
   "metadata": {},
   "outputs": [],
   "source": [
    "#Feature Engineering\n",
    "#TODO impute item_price"
   ]
  },
  {
   "cell_type": "code",
   "execution_count": 33,
   "metadata": {},
   "outputs": [],
   "source": [
    "features_cols=['date_block_num', 'shop_id', 'item_id', 'item_price', 'shop_name', 'item_name', 'item_category_id',\n",
    "       'item_category_name']\n",
    "features=pd.concat([t1[features_cols],t2[features_cols]], axis=0)"
   ]
  },
  {
   "cell_type": "code",
   "execution_count": 35,
   "metadata": {},
   "outputs": [
    {
     "name": "stderr",
     "output_type": "stream",
     "text": [
      "C:\\Anaconda\\lib\\site-packages\\ipykernel_launcher.py:3: SettingWithCopyWarning: \n",
      "A value is trying to be set on a copy of a slice from a DataFrame.\n",
      "Try using .loc[row_indexer,col_indexer] = value instead\n",
      "\n",
      "See the caveats in the documentation: http://pandas.pydata.org/pandas-docs/stable/user_guide/indexing.html#returning-a-view-versus-a-copy\n",
      "  This is separate from the ipykernel package so we can avoid doing imports until\n"
     ]
    }
   ],
   "source": [
    "#Merge the created shop categories\n",
    "shop_ids_df = shops[['shop_id']]\n",
    "shop_ids_df['shop_category']=[0,0,1,2,3,4,5,5,5,6,7,7,8,9,9,10,11,12,12,13,14,14,14,14,14,14,14,14,14,14,14,14,14,15,16,16,17,17,18,19,19,19,20,20,21,21,22,23,24,25,25,25,26,26,27,28,29,30,30,31]"
   ]
  },
  {
   "cell_type": "code",
   "execution_count": 36,
   "metadata": {},
   "outputs": [],
   "source": [
    "features = features.merge(shop_ids_df, on='shop_id', how='left')"
   ]
  },
  {
   "cell_type": "code",
   "execution_count": 37,
   "metadata": {},
   "outputs": [
    {
     "data": {
      "text/html": [
       "<div>\n",
       "<style scoped>\n",
       "    .dataframe tbody tr th:only-of-type {\n",
       "        vertical-align: middle;\n",
       "    }\n",
       "\n",
       "    .dataframe tbody tr th {\n",
       "        vertical-align: top;\n",
       "    }\n",
       "\n",
       "    .dataframe thead th {\n",
       "        text-align: right;\n",
       "    }\n",
       "</style>\n",
       "<table border=\"1\" class=\"dataframe\">\n",
       "  <thead>\n",
       "    <tr style=\"text-align: right;\">\n",
       "      <th></th>\n",
       "      <th>date_block_num</th>\n",
       "      <th>shop_id</th>\n",
       "      <th>item_id</th>\n",
       "      <th>item_price</th>\n",
       "      <th>shop_name</th>\n",
       "      <th>item_name</th>\n",
       "      <th>item_category_id</th>\n",
       "      <th>item_category_name</th>\n",
       "      <th>shop_category</th>\n",
       "    </tr>\n",
       "  </thead>\n",
       "  <tbody>\n",
       "    <tr>\n",
       "      <th>0</th>\n",
       "      <td>0</td>\n",
       "      <td>59</td>\n",
       "      <td>22154</td>\n",
       "      <td>999.00</td>\n",
       "      <td>Ярославль ТЦ \"Альтаир\"</td>\n",
       "      <td>ЯВЛЕНИЕ 2012 (BD)</td>\n",
       "      <td>37</td>\n",
       "      <td>Кино - Blu-Ray</td>\n",
       "      <td>31</td>\n",
       "    </tr>\n",
       "    <tr>\n",
       "      <th>1</th>\n",
       "      <td>0</td>\n",
       "      <td>25</td>\n",
       "      <td>2552</td>\n",
       "      <td>899.00</td>\n",
       "      <td>Москва ТРК \"Атриум\"</td>\n",
       "      <td>DEEP PURPLE  The House Of Blue Light  LP</td>\n",
       "      <td>58</td>\n",
       "      <td>Музыка - Винил</td>\n",
       "      <td>14</td>\n",
       "    </tr>\n",
       "    <tr>\n",
       "      <th>2</th>\n",
       "      <td>0</td>\n",
       "      <td>25</td>\n",
       "      <td>2552</td>\n",
       "      <td>899.00</td>\n",
       "      <td>Москва ТРК \"Атриум\"</td>\n",
       "      <td>DEEP PURPLE  The House Of Blue Light  LP</td>\n",
       "      <td>58</td>\n",
       "      <td>Музыка - Винил</td>\n",
       "      <td>14</td>\n",
       "    </tr>\n",
       "    <tr>\n",
       "      <th>3</th>\n",
       "      <td>0</td>\n",
       "      <td>25</td>\n",
       "      <td>2554</td>\n",
       "      <td>1709.05</td>\n",
       "      <td>Москва ТРК \"Атриум\"</td>\n",
       "      <td>DEEP PURPLE  Who Do You Think We Are  LP</td>\n",
       "      <td>58</td>\n",
       "      <td>Музыка - Винил</td>\n",
       "      <td>14</td>\n",
       "    </tr>\n",
       "    <tr>\n",
       "      <th>4</th>\n",
       "      <td>0</td>\n",
       "      <td>25</td>\n",
       "      <td>2555</td>\n",
       "      <td>1099.00</td>\n",
       "      <td>Москва ТРК \"Атриум\"</td>\n",
       "      <td>DEEP PURPLE 30 Very Best Of 2CD (Фирм.)</td>\n",
       "      <td>56</td>\n",
       "      <td>Музыка - CD фирменного производства</td>\n",
       "      <td>14</td>\n",
       "    </tr>\n",
       "  </tbody>\n",
       "</table>\n",
       "</div>"
      ],
      "text/plain": [
       "   date_block_num  shop_id  item_id  item_price               shop_name  \\\n",
       "0               0       59    22154      999.00  Ярославль ТЦ \"Альтаир\"   \n",
       "1               0       25     2552      899.00     Москва ТРК \"Атриум\"   \n",
       "2               0       25     2552      899.00     Москва ТРК \"Атриум\"   \n",
       "3               0       25     2554     1709.05     Москва ТРК \"Атриум\"   \n",
       "4               0       25     2555     1099.00     Москва ТРК \"Атриум\"   \n",
       "\n",
       "                                  item_name  item_category_id  \\\n",
       "0                         ЯВЛЕНИЕ 2012 (BD)                37   \n",
       "1  DEEP PURPLE  The House Of Blue Light  LP                58   \n",
       "2  DEEP PURPLE  The House Of Blue Light  LP                58   \n",
       "3  DEEP PURPLE  Who Do You Think We Are  LP                58   \n",
       "4   DEEP PURPLE 30 Very Best Of 2CD (Фирм.)                56   \n",
       "\n",
       "                    item_category_name  shop_category  \n",
       "0                       Кино - Blu-Ray             31  \n",
       "1                       Музыка - Винил             14  \n",
       "2                       Музыка - Винил             14  \n",
       "3                       Музыка - Винил             14  \n",
       "4  Музыка - CD фирменного производства             14  "
      ]
     },
     "execution_count": 37,
     "metadata": {},
     "output_type": "execute_result"
    }
   ],
   "source": [
    "features.head()"
   ]
  },
  {
   "cell_type": "code",
   "execution_count": 61,
   "metadata": {},
   "outputs": [],
   "source": [
    "features['item_price_log'] = np.log1p(features['item_price']+1)\n"
   ]
  },
  {
   "cell_type": "code",
   "execution_count": 39,
   "metadata": {},
   "outputs": [],
   "source": [
    "del sales_train, shops,  items, item_categories, t1, t2"
   ]
  },
  {
   "cell_type": "code",
   "execution_count": 56,
   "metadata": {},
   "outputs": [
    {
     "name": "stderr",
     "output_type": "stream",
     "text": [
      "C:\\Anaconda\\lib\\site-packages\\ipykernel_launcher.py:2: SettingWithCopyWarning: \n",
      "A value is trying to be set on a copy of a slice from a DataFrame.\n",
      "Try using .loc[row_indexer,col_indexer] = value instead\n",
      "\n",
      "See the caveats in the documentation: http://pandas.pydata.org/pandas-docs/stable/user_guide/indexing.html#returning-a-view-versus-a-copy\n",
      "  \n"
     ]
    }
   ],
   "source": [
    "train_features=features.iloc[:y.shape[0],:]\n",
    "train_features['y']=y"
   ]
  },
  {
   "cell_type": "code",
   "execution_count": 62,
   "metadata": {},
   "outputs": [],
   "source": [
    "item_id_me = train_features.groupby('item_id')[['y']].agg(np.mean).reset_index()\n",
    "item_id_me.columns=['item_id','item_id_me']\n",
    "features=features.merge(item_id_me, on='item_id',how='left')\n",
    "del item_id_me"
   ]
  },
  {
   "cell_type": "code",
   "execution_count": 64,
   "metadata": {},
   "outputs": [
    {
     "data": {
      "text/plain": [
       "(21807,)"
      ]
     },
     "execution_count": 64,
     "metadata": {},
     "output_type": "execute_result"
    }
   ],
   "source": [
    "np.unique(features['item_id']).shape"
   ]
  },
  {
   "cell_type": "code",
   "execution_count": 70,
   "metadata": {},
   "outputs": [],
   "source": [
    "shop_id_me = train_features.groupby('shop_id')[['y']].agg(np.mean).reset_index()\n",
    "shop_id_me.columns=['shop_id','shop_id_me']\n",
    "shop_id_me = shop_id_me.sort_values(['shop_id_me'])\n",
    "shop_id_me['shop_id_me']=np.arange(shop_id_me.shape[0])\n",
    "features=features.merge(shop_id_me, on='shop_id',how='left')\n",
    "del shop_id_me"
   ]
  },
  {
   "cell_type": "code",
   "execution_count": 73,
   "metadata": {},
   "outputs": [],
   "source": [
    "item_cat_id_me = train_features.groupby('item_category_id')[['y']].agg(np.mean).reset_index()\n",
    "item_cat_id_me.columns=['item_category_id','item_cat_id_me']\n",
    "item_cat_id_me = item_cat_id_me.sort_values(['item_cat_id_me'])\n",
    "item_cat_id_me['item_cat_id_me']=np.arange(item_cat_id_me.shape[0])\n",
    "features=features.merge(item_cat_id_me, on='item_category_id',how='left')\n",
    "del item_cat_id_me"
   ]
  },
  {
   "cell_type": "code",
   "execution_count": 75,
   "metadata": {},
   "outputs": [],
   "source": [
    "shop_cat_id_me = train_features.groupby('shop_category')[['y']].agg(np.mean).reset_index()\n",
    "shop_cat_id_me.columns=['shop_category','shop_cat_id_me']\n",
    "shop_cat_id_me = shop_cat_id_me.sort_values(['shop_cat_id_me'])\n",
    "shop_cat_id_me['shop_cat_id_me']=np.arange(shop_cat_id_me.shape[0])\n",
    "features=features.merge(shop_cat_id_me, on='shop_category',how='left')\n",
    "del shop_cat_id_me"
   ]
  },
  {
   "cell_type": "code",
   "execution_count": 77,
   "metadata": {},
   "outputs": [],
   "source": [
    "features.to_csv('features_full.csv', index=False)"
   ]
  },
  {
   "cell_type": "code",
   "execution_count": 80,
   "metadata": {},
   "outputs": [],
   "source": [
    "features = features.drop(['shop_id', 'item_id', 'shop_name', 'item_name', 'item_category_name','item_category_id', 'shop_category', 'item_price'], axis=1)\n",
    "# features.head()\n",
    "# drop shop_id, item_id, shop_name, item_name, item_category_id, shop_category, item_price"
   ]
  },
  {
   "cell_type": "code",
   "execution_count": 82,
   "metadata": {},
   "outputs": [],
   "source": [
    "features.to_csv('features.csv', index=False)"
   ]
  },
  {
   "cell_type": "code",
   "execution_count": 89,
   "metadata": {},
   "outputs": [],
   "source": [
    "features=pd.read_csv('features_full.csv')"
   ]
  },
  {
   "cell_type": "code",
   "execution_count": 90,
   "metadata": {},
   "outputs": [],
   "source": [
    "num_item = features.groupby('item_id')[['date_block_num']].agg(len).reset_index()\n",
    "num_item.columns=['item_id','num_item']\n",
    "features=features.merge(num_item, on='item_id',how='left')\n",
    "del num_item"
   ]
  },
  {
   "cell_type": "code",
   "execution_count": 92,
   "metadata": {},
   "outputs": [],
   "source": [
    "num_shop = features.groupby('shop_id')[['date_block_num']].agg(len).reset_index()\n",
    "num_shop.columns=['shop_id','num_shop']\n",
    "features=features.merge(num_shop, on='shop_id',how='left')\n",
    "del num_shop"
   ]
  },
  {
   "cell_type": "code",
   "execution_count": 93,
   "metadata": {},
   "outputs": [],
   "source": [
    "num_item_cat = features.groupby('item_category_id')[['date_block_num']].agg(len).reset_index()\n",
    "num_item_cat.columns=['item_category_id','num_item_cat']\n",
    "features=features.merge(num_item_cat, on='item_category_id',how='left')\n",
    "del num_item_cat"
   ]
  },
  {
   "cell_type": "code",
   "execution_count": 94,
   "metadata": {},
   "outputs": [],
   "source": [
    "num_shop_cat = features.groupby('shop_category')[['date_block_num']].agg(len).reset_index()\n",
    "num_shop_cat.columns=['shop_category','num_shop_cat']\n",
    "features=features.merge(num_shop_cat, on='shop_category',how='left')\n",
    "del num_shop_cat"
   ]
  },
  {
   "cell_type": "code",
   "execution_count": 96,
   "metadata": {},
   "outputs": [
    {
     "data": {
      "text/html": [
       "<div>\n",
       "<style scoped>\n",
       "    .dataframe tbody tr th:only-of-type {\n",
       "        vertical-align: middle;\n",
       "    }\n",
       "\n",
       "    .dataframe tbody tr th {\n",
       "        vertical-align: top;\n",
       "    }\n",
       "\n",
       "    .dataframe thead th {\n",
       "        text-align: right;\n",
       "    }\n",
       "</style>\n",
       "<table border=\"1\" class=\"dataframe\">\n",
       "  <thead>\n",
       "    <tr style=\"text-align: right;\">\n",
       "      <th></th>\n",
       "      <th>date_block_num</th>\n",
       "      <th>shop_id</th>\n",
       "      <th>item_id</th>\n",
       "      <th>item_price</th>\n",
       "      <th>shop_name</th>\n",
       "      <th>item_name</th>\n",
       "      <th>item_category_id</th>\n",
       "      <th>item_category_name</th>\n",
       "      <th>shop_category</th>\n",
       "      <th>item_price_log</th>\n",
       "      <th>item_id_me</th>\n",
       "      <th>shop_id_me</th>\n",
       "      <th>item_cat_id_me</th>\n",
       "      <th>shop_cat_id_me</th>\n",
       "      <th>num_item</th>\n",
       "      <th>num_shop</th>\n",
       "      <th>num_item_cat</th>\n",
       "      <th>num_shop_cat</th>\n",
       "    </tr>\n",
       "  </thead>\n",
       "  <tbody>\n",
       "    <tr>\n",
       "      <th>0</th>\n",
       "      <td>0</td>\n",
       "      <td>59</td>\n",
       "      <td>22154</td>\n",
       "      <td>999.00</td>\n",
       "      <td>Ярославль ТЦ \"Альтаир\"</td>\n",
       "      <td>ЯВЛЕНИЕ 2012 (BD)</td>\n",
       "      <td>37</td>\n",
       "      <td>Кино - Blu-Ray</td>\n",
       "      <td>31</td>\n",
       "      <td>6.908755</td>\n",
       "      <td>1.000000</td>\n",
       "      <td>24</td>\n",
       "      <td>35</td>\n",
       "      <td>12</td>\n",
       "      <td>101</td>\n",
       "      <td>47208</td>\n",
       "      <td>206576</td>\n",
       "      <td>47208</td>\n",
       "    </tr>\n",
       "    <tr>\n",
       "      <th>1</th>\n",
       "      <td>0</td>\n",
       "      <td>25</td>\n",
       "      <td>2552</td>\n",
       "      <td>899.00</td>\n",
       "      <td>Москва ТРК \"Атриум\"</td>\n",
       "      <td>DEEP PURPLE  The House Of Blue Light  LP</td>\n",
       "      <td>58</td>\n",
       "      <td>Музыка - Винил</td>\n",
       "      <td>14</td>\n",
       "      <td>6.803505</td>\n",
       "      <td>0.555556</td>\n",
       "      <td>52</td>\n",
       "      <td>2</td>\n",
       "      <td>26</td>\n",
       "      <td>9</td>\n",
       "      <td>191204</td>\n",
       "      <td>23068</td>\n",
       "      <td>1032336</td>\n",
       "    </tr>\n",
       "    <tr>\n",
       "      <th>2</th>\n",
       "      <td>0</td>\n",
       "      <td>25</td>\n",
       "      <td>2552</td>\n",
       "      <td>899.00</td>\n",
       "      <td>Москва ТРК \"Атриум\"</td>\n",
       "      <td>DEEP PURPLE  The House Of Blue Light  LP</td>\n",
       "      <td>58</td>\n",
       "      <td>Музыка - Винил</td>\n",
       "      <td>14</td>\n",
       "      <td>6.803505</td>\n",
       "      <td>0.555556</td>\n",
       "      <td>52</td>\n",
       "      <td>2</td>\n",
       "      <td>26</td>\n",
       "      <td>9</td>\n",
       "      <td>191204</td>\n",
       "      <td>23068</td>\n",
       "      <td>1032336</td>\n",
       "    </tr>\n",
       "    <tr>\n",
       "      <th>3</th>\n",
       "      <td>0</td>\n",
       "      <td>25</td>\n",
       "      <td>2554</td>\n",
       "      <td>1709.05</td>\n",
       "      <td>Москва ТРК \"Атриум\"</td>\n",
       "      <td>DEEP PURPLE  Who Do You Think We Are  LP</td>\n",
       "      <td>58</td>\n",
       "      <td>Музыка - Винил</td>\n",
       "      <td>14</td>\n",
       "      <td>7.444862</td>\n",
       "      <td>1.000000</td>\n",
       "      <td>52</td>\n",
       "      <td>2</td>\n",
       "      <td>26</td>\n",
       "      <td>1</td>\n",
       "      <td>191204</td>\n",
       "      <td>23068</td>\n",
       "      <td>1032336</td>\n",
       "    </tr>\n",
       "    <tr>\n",
       "      <th>4</th>\n",
       "      <td>0</td>\n",
       "      <td>25</td>\n",
       "      <td>2555</td>\n",
       "      <td>1099.00</td>\n",
       "      <td>Москва ТРК \"Атриум\"</td>\n",
       "      <td>DEEP PURPLE 30 Very Best Of 2CD (Фирм.)</td>\n",
       "      <td>56</td>\n",
       "      <td>Музыка - CD фирменного производства</td>\n",
       "      <td>14</td>\n",
       "      <td>7.003974</td>\n",
       "      <td>1.000000</td>\n",
       "      <td>52</td>\n",
       "      <td>25</td>\n",
       "      <td>26</td>\n",
       "      <td>56</td>\n",
       "      <td>191204</td>\n",
       "      <td>9233</td>\n",
       "      <td>1032336</td>\n",
       "    </tr>\n",
       "  </tbody>\n",
       "</table>\n",
       "</div>"
      ],
      "text/plain": [
       "   date_block_num  shop_id  item_id  item_price               shop_name  \\\n",
       "0               0       59    22154      999.00  Ярославль ТЦ \"Альтаир\"   \n",
       "1               0       25     2552      899.00     Москва ТРК \"Атриум\"   \n",
       "2               0       25     2552      899.00     Москва ТРК \"Атриум\"   \n",
       "3               0       25     2554     1709.05     Москва ТРК \"Атриум\"   \n",
       "4               0       25     2555     1099.00     Москва ТРК \"Атриум\"   \n",
       "\n",
       "                                  item_name  item_category_id  \\\n",
       "0                         ЯВЛЕНИЕ 2012 (BD)                37   \n",
       "1  DEEP PURPLE  The House Of Blue Light  LP                58   \n",
       "2  DEEP PURPLE  The House Of Blue Light  LP                58   \n",
       "3  DEEP PURPLE  Who Do You Think We Are  LP                58   \n",
       "4   DEEP PURPLE 30 Very Best Of 2CD (Фирм.)                56   \n",
       "\n",
       "                    item_category_name  shop_category  item_price_log  \\\n",
       "0                       Кино - Blu-Ray             31        6.908755   \n",
       "1                       Музыка - Винил             14        6.803505   \n",
       "2                       Музыка - Винил             14        6.803505   \n",
       "3                       Музыка - Винил             14        7.444862   \n",
       "4  Музыка - CD фирменного производства             14        7.003974   \n",
       "\n",
       "   item_id_me  shop_id_me  item_cat_id_me  shop_cat_id_me  num_item  num_shop  \\\n",
       "0    1.000000          24              35              12       101     47208   \n",
       "1    0.555556          52               2              26         9    191204   \n",
       "2    0.555556          52               2              26         9    191204   \n",
       "3    1.000000          52               2              26         1    191204   \n",
       "4    1.000000          52              25              26        56    191204   \n",
       "\n",
       "   num_item_cat  num_shop_cat  \n",
       "0        206576         47208  \n",
       "1         23068       1032336  \n",
       "2         23068       1032336  \n",
       "3         23068       1032336  \n",
       "4          9233       1032336  "
      ]
     },
     "execution_count": 96,
     "metadata": {},
     "output_type": "execute_result"
    }
   ],
   "source": [
    "features.head()"
   ]
  },
  {
   "cell_type": "code",
   "execution_count": 102,
   "metadata": {},
   "outputs": [
    {
     "data": {
      "image/png": "[encoded data removed]",
      "text/plain": [
       "<Figure size 432x288 with 1 Axes>"
      ]
     },
     "metadata": {
      "needs_background": "light"
     },
     "output_type": "display_data"
    }
   ],
   "source": [
    "#plots\n",
    "shop_item_price = features.groupby('shop_id_me')[['item_price_log']].agg(np.mean).reset_index()\n",
    "plt.scatter(shop_item_price['shop_id_me'], shop_item_price['item_price_log'])\n",
    "del shop_item_price"
   ]
  },
  {
   "cell_type": "code",
   "execution_count": 103,
   "metadata": {},
   "outputs": [
    {
     "data": {
      "image/png": "[encoded data removed]",
      "text/plain": [
       "<Figure size 432x288 with 1 Axes>"
      ]
     },
     "metadata": {
      "needs_background": "light"
     },
     "output_type": "display_data"
    }
   ],
   "source": [
    "item_item_price = features.groupby('item_id_me')[['item_price_log']].agg(np.mean).reset_index()\n",
    "plt.scatter(item_item_price['item_id_me'], item_item_price['item_price_log'])\n",
    "del item_item_price"
   ]
  },
  {
   "cell_type": "code",
   "execution_count": 104,
   "metadata": {},
   "outputs": [
    {
     "data": {
      "image/png": "[encoded data removed]",
      "text/plain": [
       "<Figure size 432x288 with 1 Axes>"
      ]
     },
     "metadata": {
      "needs_background": "light"
     },
     "output_type": "display_data"
    }
   ],
   "source": [
    "item_cat_item_price = features.groupby('item_cat_id_me')[['item_price_log']].agg(np.mean).reset_index()\n",
    "plt.scatter(item_cat_item_price['item_cat_id_me'], item_cat_item_price['item_price_log'])\n",
    "del item_cat_item_price"
   ]
  },
  {
   "cell_type": "code",
   "execution_count": 105,
   "metadata": {},
   "outputs": [
    {
     "data": {
      "image/png": "[encoded data removed]",
      "text/plain": [
       "<Figure size 432x288 with 1 Axes>"
      ]
     },
     "metadata": {
      "needs_background": "light"
     },
     "output_type": "display_data"
    }
   ],
   "source": [
    "shop_cat_item_price = features.groupby('shop_cat_id_me')[['item_price_log']].agg(np.mean).reset_index()\n",
    "plt.scatter(shop_cat_item_price['shop_cat_id_me'], shop_cat_item_price['item_price_log'])\n",
    "del shop_cat_item_price"
   ]
  },
  {
   "cell_type": "code",
   "execution_count": 106,
   "metadata": {},
   "outputs": [
    {
     "data": {
      "image/png": "[encoded data removed]",
      "text/plain": [
       "<Figure size 432x288 with 1 Axes>"
      ]
     },
     "metadata": {
      "needs_background": "light"
     },
     "output_type": "display_data"
    }
   ],
   "source": [
    "shop_id_me_num_shop = features.groupby('shop_id_me')[['num_shop']].agg(np.mean).reset_index()\n",
    "plt.scatter(shop_id_me_num_shop['shop_id_me'], shop_id_me_num_shop['num_shop'])\n",
    "del shop_id_me_num_shop"
   ]
  },
  {
   "cell_type": "code",
   "execution_count": 107,
   "metadata": {},
   "outputs": [
    {
     "data": {
      "image/png": "[encoded data removed]",
      "text/plain": [
       "<Figure size 432x288 with 1 Axes>"
      ]
     },
     "metadata": {
      "needs_background": "light"
     },
     "output_type": "display_data"
    }
   ],
   "source": [
    "item_id_me_num_item = features.groupby('item_id_me')[['num_item']].agg(np.mean).reset_index()\n",
    "plt.scatter(item_id_me_num_item['item_id_me'], item_id_me_num_item['num_item'])\n",
    "del item_id_me_num_item"
   ]
  },
  {
   "cell_type": "code",
   "execution_count": 111,
   "metadata": {},
   "outputs": [],
   "source": [
    "features = features.drop(['shop_id', 'item_id', 'shop_name', 'item_name', 'item_category_name','item_category_id', 'shop_category', 'item_price'], axis=1)\n",
    "features.to_csv('features.csv', index=False)"
   ]
  },
  {
   "cell_type": "code",
   "execution_count": 113,
   "metadata": {},
   "outputs": [],
   "source": [
    "X = features.iloc[:len(y), :]\n",
    "X_sub = features.iloc[len(X):, :]"
   ]
  },
  {
   "cell_type": "code",
   "execution_count": null,
   "metadata": {},
   "outputs": [
    {
     "name": "stdout",
     "output_type": "stream",
     "text": [
      "TEST score on CV\n",
      "Kernel Ridge score: 2.3910 (0.7717)\n",
      " 2020-01-19 19:09:16.438246\n",
      "Lasso score: 2.3910 (0.7717)\n",
      " 2020-01-19 19:11:58.474406\n",
      "ElasticNet score: 2.3910 (0.7717)\n",
      " 2020-01-19 19:27:55.089889\n"
     ]
    }
   ],
   "source": [
    "kfolds = KFold(n_splits=10, shuffle=True, random_state=42)\n",
    "\n",
    "\n",
    "# rmsle\n",
    "def rmsle(y, y_pred):\n",
    "    return np.sqrt(mean_squared_error(y, y_pred))\n",
    "\n",
    "\n",
    "# build our model scoring function\n",
    "def cv_rmse(model, X=X):\n",
    "    rmse = np.sqrt(-cross_val_score(model, X, y,\n",
    "                                    scoring=\"neg_mean_squared_error\",\n",
    "                                    cv=kfolds))\n",
    "    return (rmse)\n",
    "\n",
    "\n",
    "# setup models    \n",
    "alphas_alt = [14.5, 14.6, 14.7, 14.8, 14.9, 15, 15.1, 15.2, 15.3, 15.4, 15.5]\n",
    "alphas2 = [5e-05, 0.0001, 0.0002, 0.0003, 0.0004, 0.0005, 0.0006, 0.0007, 0.0008]\n",
    "e_alphas = [0.0001, 0.0002, 0.0003, 0.0004, 0.0005, 0.0006, 0.0007]\n",
    "e_l1ratio = [0.8, 0.85, 0.9, 0.95, 0.99, 1]\n",
    "\n",
    "ridge = make_pipeline(RobustScaler(),\n",
    "                      RidgeCV(alphas=alphas_alt, cv=kfolds))\n",
    "\n",
    "lasso = make_pipeline(RobustScaler(),\n",
    "                      LassoCV(max_iter=1e7, alphas=alphas2,\n",
    "                              random_state=42, cv=kfolds))\n",
    "\n",
    "elasticnet = make_pipeline(RobustScaler(),\n",
    "                           ElasticNetCV(max_iter=1e7, alphas=e_alphas,\n",
    "                                        cv=kfolds, l1_ratio=e_l1ratio))\n",
    "                                        \n",
    "svr = make_pipeline(RobustScaler(),\n",
    "                      SVR(C= 20, epsilon= 0.008, gamma=0.0003,))\n",
    "\n",
    "\n",
    "gbr = GradientBoostingRegressor(n_estimators=3000, learning_rate=0.05,\n",
    "                                   max_depth=4, max_features='sqrt',\n",
    "                                   min_samples_leaf=15, min_samples_split=10, \n",
    "                                   loss='huber', random_state =42)\n",
    "                                   \n",
    "\n",
    "lightgbm = LGBMRegressor(objective='regression', \n",
    "                                       num_leaves=4,\n",
    "                                       learning_rate=0.01, \n",
    "                                       n_estimators=5000,\n",
    "                                       max_bin=200, \n",
    "                                       bagging_fraction=0.75,\n",
    "                                       bagging_freq=5, \n",
    "                                       bagging_seed=7,\n",
    "                                       feature_fraction=0.2,\n",
    "                                       feature_fraction_seed=7,\n",
    "                                       verbose=-1,\n",
    "                                       #min_data_in_leaf=2,\n",
    "                                       #min_sum_hessian_in_leaf=11\n",
    "                                       )\n",
    "                                       \n",
    "\n",
    "xgboost = XGBRegressor(learning_rate=0.01, n_estimators=3460,\n",
    "                                     max_depth=3, min_child_weight=0,\n",
    "                                     gamma=0, subsample=0.7,\n",
    "                                     colsample_bytree=0.7,\n",
    "                                     objective='reg:linear', nthread=-1,\n",
    "                                     scale_pos_weight=1, seed=27,\n",
    "                                     reg_alpha=0.00006)\n",
    "\n",
    "# stack\n",
    "stack_gen = StackingCVRegressor(regressors=(ridge, lasso, elasticnet,\n",
    "                                            gbr, xgboost, lightgbm),\n",
    "                                meta_regressor=xgboost,\n",
    "                                use_features_in_secondary=True)\n",
    "                                \n",
    "\n",
    "print('TEST score on CV')\n",
    "\n",
    "score = cv_rmse(ridge)\n",
    "print(\"Kernel Ridge score: {:.4f} ({:.4f})\\n\".format(score.mean(), score.std()), datetime.now(), )\n",
    "\n",
    "score = cv_rmse(lasso)\n",
    "print(\"Lasso score: {:.4f} ({:.4f})\\n\".format(score.mean(), score.std()), datetime.now(), )\n",
    "\n",
    "score = cv_rmse(elasticnet)\n",
    "print(\"ElasticNet score: {:.4f} ({:.4f})\\n\".format(score.mean(), score.std()), datetime.now(), )\n",
    "\n",
    "score = cv_rmse(svr)\n",
    "print(\"SVR score: {:.4f} ({:.4f})\\n\".format(score.mean(), score.std()), datetime.now(), )\n",
    "\n",
    "score = cv_rmse(lightgbm)\n",
    "print(\"Lightgbm score: {:.4f} ({:.4f})\\n\".format(score.mean(), score.std()), datetime.now(), )\n",
    "\n",
    "score = cv_rmse(gbr)\n",
    "print(\"GradientBoosting score: {:.4f} ({:.4f})\\n\".format(score.mean(), score.std()), datetime.now(), )\n",
    "\n",
    "score = cv_rmse(xgboost)\n",
    "print(\"Xgboost score: {:.4f} ({:.4f})\\n\".format(score.mean(), score.std()), datetime.now(), )\n",
    "\n"
   ]
  }
 ],
 "metadata": {
  "kernelspec": {
   "display_name": "Python 3",
   "language": "python",
   "name": "python3"
  },
  "language_info": {
   "codemirror_mode": {
    "name": "ipython",
    "version": 3
   },
   "file_extension": ".py",
   "mimetype": "text/x-python",
   "name": "python",
   "nbconvert_exporter": "python",
   "pygments_lexer": "ipython3",
   "version": "3.6.7"
  }
 },
 "nbformat": 4,
 "nbformat_minor": 2
}
